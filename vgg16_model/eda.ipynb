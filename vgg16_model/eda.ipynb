{
 "cells": [
  {
   "cell_type": "code",
   "execution_count": 1,
   "metadata": {},
   "outputs": [],
   "source": [
    "import pandas as pd\n",
    "import os\n",
    "import seaborn as sns"
   ]
  },
  {
   "cell_type": "code",
   "execution_count": 2,
   "metadata": {},
   "outputs": [],
   "source": [
    "transaction_dataset = pd.read_csv(os.path.join(os.getcwd(),\"h-and-m-personalized-fashion-recommendations\",\"transactions_train.csv\"))\n",
    "articles_dataset = pd.read_csv(os.path.join(os.getcwd(),\"h-and-m-personalized-fashion-recommendations\",\"articles.csv\"))\n",
    "customers_dataset = pd.read_csv(os.path.join(os.getcwd(),\"h-and-m-personalized-fashion-recommendations\",\"customers.csv\"))"
   ]
  },
  {
   "cell_type": "code",
   "execution_count": 3,
   "metadata": {},
   "outputs": [
    {
     "data": {
      "text/plain": [
       "16009"
      ]
     },
     "execution_count": 3,
     "metadata": {},
     "output_type": "execute_result"
    }
   ],
   "source": [
    "customers_dataset[\"fashion_news_frequency\"].isna().sum()"
   ]
  },
  {
   "cell_type": "code",
   "execution_count": 4,
   "metadata": {},
   "outputs": [
    {
     "data": {
      "text/plain": [
       "6062"
      ]
     },
     "execution_count": 4,
     "metadata": {},
     "output_type": "execute_result"
    }
   ],
   "source": [
    "customers_dataset[\"club_member_status\"].isna().sum()"
   ]
  },
  {
   "cell_type": "code",
   "execution_count": 5,
   "metadata": {},
   "outputs": [
    {
     "data": {
      "text/plain": [
       "907576"
      ]
     },
     "execution_count": 5,
     "metadata": {},
     "output_type": "execute_result"
    }
   ],
   "source": [
    "customers_dataset[\"Active\"].isna().sum()"
   ]
  },
  {
   "cell_type": "code",
   "execution_count": 6,
   "metadata": {},
   "outputs": [
    {
     "data": {
      "text/plain": [
       "895050"
      ]
     },
     "execution_count": 6,
     "metadata": {},
     "output_type": "execute_result"
    }
   ],
   "source": [
    "customers_dataset[\"FN\"].isna().sum()"
   ]
  },
  {
   "cell_type": "code",
   "execution_count": 7,
   "metadata": {},
   "outputs": [],
   "source": [
    "def count_na_dataset(dataset,dataset_name):\n",
    "    print(f\"NaN values for each column in {dataset_name}\")\n",
    "    for column in dataset.columns:\n",
    "        print(f\"{column} has {dataset[column].isna().sum()} NaN values\")"
   ]
  },
  {
   "cell_type": "code",
   "execution_count": 8,
   "metadata": {},
   "outputs": [],
   "source": [
    "def count_unique_dataset(dataset,dataset_name):\n",
    "    print(f\"Number of unique values in each column of {dataset_name}\")\n",
    "    for column in dataset.columns:\n",
    "        print(f\"{column} has {len(dataset[column].unique())} unique values\")"
   ]
  },
  {
   "cell_type": "code",
   "execution_count": 9,
   "metadata": {},
   "outputs": [
    {
     "name": "stdout",
     "output_type": "stream",
     "text": [
      "NaN values for each column in Transactions\n",
      "t_dat has 0 NaN values\n",
      "customer_id has 0 NaN values\n",
      "article_id has 0 NaN values\n",
      "price has 0 NaN values\n",
      "sales_channel_id has 0 NaN values\n"
     ]
    }
   ],
   "source": [
    "count_na_dataset(transaction_dataset,\"Transactions\")"
   ]
  },
  {
   "cell_type": "code",
   "execution_count": 10,
   "metadata": {},
   "outputs": [
    {
     "name": "stdout",
     "output_type": "stream",
     "text": [
      "NaN values for each column in Articles\n",
      "article_id has 0 NaN values\n",
      "product_code has 0 NaN values\n",
      "prod_name has 0 NaN values\n",
      "product_type_no has 0 NaN values\n",
      "product_type_name has 0 NaN values\n",
      "product_group_name has 0 NaN values\n",
      "graphical_appearance_no has 0 NaN values\n",
      "graphical_appearance_name has 0 NaN values\n",
      "colour_group_code has 0 NaN values\n",
      "colour_group_name has 0 NaN values\n",
      "perceived_colour_value_id has 0 NaN values\n",
      "perceived_colour_value_name has 0 NaN values\n",
      "perceived_colour_master_id has 0 NaN values\n",
      "perceived_colour_master_name has 0 NaN values\n",
      "department_no has 0 NaN values\n",
      "department_name has 0 NaN values\n",
      "index_code has 0 NaN values\n",
      "index_name has 0 NaN values\n",
      "index_group_no has 0 NaN values\n",
      "index_group_name has 0 NaN values\n",
      "section_no has 0 NaN values\n",
      "section_name has 0 NaN values\n",
      "garment_group_no has 0 NaN values\n",
      "garment_group_name has 0 NaN values\n",
      "detail_desc has 416 NaN values\n"
     ]
    }
   ],
   "source": [
    "count_na_dataset(articles_dataset,\"Articles\")"
   ]
  },
  {
   "cell_type": "code",
   "execution_count": 11,
   "metadata": {},
   "outputs": [
    {
     "name": "stdout",
     "output_type": "stream",
     "text": [
      "NaN values for each column in Customers\n",
      "customer_id has 0 NaN values\n",
      "FN has 895050 NaN values\n",
      "Active has 907576 NaN values\n",
      "club_member_status has 6062 NaN values\n",
      "fashion_news_frequency has 16009 NaN values\n",
      "age has 15861 NaN values\n",
      "postal_code has 0 NaN values\n"
     ]
    }
   ],
   "source": [
    "count_na_dataset(customers_dataset,\"Customers\")"
   ]
  },
  {
   "cell_type": "code",
   "execution_count": 12,
   "metadata": {},
   "outputs": [
    {
     "data": {
      "text/plain": [
       "array([nan,  1.])"
      ]
     },
     "execution_count": 12,
     "metadata": {},
     "output_type": "execute_result"
    }
   ],
   "source": [
    "customers_dataset[\"FN\"].unique()"
   ]
  },
  {
   "cell_type": "code",
   "execution_count": 13,
   "metadata": {},
   "outputs": [
    {
     "data": {
      "text/plain": [
       "array([nan,  1.])"
      ]
     },
     "execution_count": 13,
     "metadata": {},
     "output_type": "execute_result"
    }
   ],
   "source": [
    "customers_dataset[\"Active\"].unique()"
   ]
  },
  {
   "cell_type": "code",
   "execution_count": 14,
   "metadata": {},
   "outputs": [
    {
     "data": {
      "text/plain": [
       "array(['ACTIVE', nan, 'PRE-CREATE', 'LEFT CLUB'], dtype=object)"
      ]
     },
     "execution_count": 14,
     "metadata": {},
     "output_type": "execute_result"
    }
   ],
   "source": [
    "customers_dataset[\"club_member_status\"].unique()"
   ]
  },
  {
   "cell_type": "code",
   "execution_count": 15,
   "metadata": {},
   "outputs": [
    {
     "data": {
      "text/plain": [
       "array(['NONE', 'Regularly', nan, 'Monthly', 'None'], dtype=object)"
      ]
     },
     "execution_count": 15,
     "metadata": {},
     "output_type": "execute_result"
    }
   ],
   "source": [
    "customers_dataset[\"fashion_news_frequency\"].unique()"
   ]
  },
  {
   "cell_type": "code",
   "execution_count": 16,
   "metadata": {},
   "outputs": [
    {
     "name": "stdout",
     "output_type": "stream",
     "text": [
      "Number of unique values in each column of Transactions\n",
      "t_dat has 734 unique values\n",
      "customer_id has 1362281 unique values\n",
      "article_id has 104547 unique values\n",
      "price has 9857 unique values\n",
      "sales_channel_id has 2 unique values\n"
     ]
    }
   ],
   "source": [
    "count_unique_dataset(transaction_dataset,\"Transactions\")"
   ]
  },
  {
   "cell_type": "code",
   "execution_count": 17,
   "metadata": {},
   "outputs": [
    {
     "name": "stdout",
     "output_type": "stream",
     "text": [
      "Number of unique values in each column of Articles\n",
      "article_id has 105542 unique values\n",
      "product_code has 47224 unique values\n",
      "prod_name has 45875 unique values\n",
      "product_type_no has 132 unique values\n",
      "product_type_name has 131 unique values\n",
      "product_group_name has 19 unique values\n",
      "graphical_appearance_no has 30 unique values\n",
      "graphical_appearance_name has 30 unique values\n",
      "colour_group_code has 50 unique values\n",
      "colour_group_name has 50 unique values\n",
      "perceived_colour_value_id has 8 unique values\n",
      "perceived_colour_value_name has 8 unique values\n",
      "perceived_colour_master_id has 20 unique values\n",
      "perceived_colour_master_name has 20 unique values\n",
      "department_no has 299 unique values\n",
      "department_name has 250 unique values\n",
      "index_code has 10 unique values\n",
      "index_name has 10 unique values\n",
      "index_group_no has 5 unique values\n",
      "index_group_name has 5 unique values\n",
      "section_no has 57 unique values\n",
      "section_name has 56 unique values\n",
      "garment_group_no has 21 unique values\n",
      "garment_group_name has 21 unique values\n",
      "detail_desc has 43405 unique values\n"
     ]
    }
   ],
   "source": [
    "count_unique_dataset(articles_dataset,\"Articles\")"
   ]
  },
  {
   "cell_type": "code",
   "execution_count": 18,
   "metadata": {},
   "outputs": [
    {
     "name": "stdout",
     "output_type": "stream",
     "text": [
      "Number of unique values in each column of Customers\n",
      "customer_id has 1371980 unique values\n",
      "FN has 2 unique values\n",
      "Active has 2 unique values\n",
      "club_member_status has 4 unique values\n",
      "fashion_news_frequency has 5 unique values\n",
      "age has 85 unique values\n",
      "postal_code has 352899 unique values\n"
     ]
    }
   ],
   "source": [
    "count_unique_dataset(customers_dataset,\"Customers\")"
   ]
  },
  {
   "cell_type": "code",
   "execution_count": 19,
   "metadata": {},
   "outputs": [],
   "source": [
    "temp_dataset = transaction_dataset.join(articles_dataset,on=\"article_id\",lsuffix=\"_caller\", rsuffix=\"_other\",how=\"outer\")"
   ]
  },
  {
   "cell_type": "code",
   "execution_count": 20,
   "metadata": {},
   "outputs": [],
   "source": [
    "main_dataset = temp_dataset.merge(customers_dataset,on=\"customer_id\",how=\"outer\")"
   ]
  },
  {
   "cell_type": "code",
   "execution_count": null,
   "metadata": {},
   "outputs": [
    {
     "data": {
      "text/plain": [
       "<bound method NDFrame.head of            article_id       t_dat  \\\n",
       "0         663713001.0  2018-09-20   \n",
       "1         663713001.0  2018-09-24   \n",
       "2         541518023.0  2018-09-20   \n",
       "3         578020002.0  2019-03-01   \n",
       "4         351484002.0  2020-02-03   \n",
       "...               ...         ...   \n",
       "31903560          NaN         NaN   \n",
       "31903561          NaN         NaN   \n",
       "31903562          NaN         NaN   \n",
       "31903563          NaN         NaN   \n",
       "31903564          NaN         NaN   \n",
       "\n",
       "                                                customer_id  \\\n",
       "0         000058a12d5b43e67d225668fa1f8d618c13dc232df0ca...   \n",
       "1         000058a12d5b43e67d225668fa1f8d618c13dc232df0ca...   \n",
       "2         000058a12d5b43e67d225668fa1f8d618c13dc232df0ca...   \n",
       "3         000058a12d5b43e67d225668fa1f8d618c13dc232df0ca...   \n",
       "4         000058a12d5b43e67d225668fa1f8d618c13dc232df0ca...   \n",
       "...                                                     ...   \n",
       "31903560  ffe5801cb2a5b51d4d068322d7f8082e995f427a6f22a6...   \n",
       "31903561  ffeb3ca867aba57a312fe9d28d67dd46ef2240fe92a94c...   \n",
       "31903562  fff456fa60aac9174456c2f36ede5e0f25429a16c88a34...   \n",
       "31903563  fffa8d3cea26d4f5186472b923629b35fa28051f258030...   \n",
       "31903564  ffff01710b4f0d558ff62d7dc00f0641065b37e840bb43...   \n",
       "\n",
       "          article_id_caller     price  sales_channel_id  article_id_other  \\\n",
       "0               663713001.0  0.050831               2.0               NaN   \n",
       "1               663713001.0  0.050831               2.0               NaN   \n",
       "2               541518023.0  0.030492               2.0               NaN   \n",
       "3               578020002.0  0.013542               2.0               NaN   \n",
       "4               351484002.0  0.022017               2.0               NaN   \n",
       "...                     ...       ...               ...               ...   \n",
       "31903560                NaN       NaN               NaN               NaN   \n",
       "31903561                NaN       NaN               NaN               NaN   \n",
       "31903562                NaN       NaN               NaN               NaN   \n",
       "31903563                NaN       NaN               NaN               NaN   \n",
       "31903564                NaN       NaN               NaN               NaN   \n",
       "\n",
       "          product_code prod_name  product_type_no  ... section_name  \\\n",
       "0                  NaN       NaN              NaN  ...          NaN   \n",
       "1                  NaN       NaN              NaN  ...          NaN   \n",
       "2                  NaN       NaN              NaN  ...          NaN   \n",
       "3                  NaN       NaN              NaN  ...          NaN   \n",
       "4                  NaN       NaN              NaN  ...          NaN   \n",
       "...                ...       ...              ...  ...          ...   \n",
       "31903560           NaN       NaN              NaN  ...          NaN   \n",
       "31903561           NaN       NaN              NaN  ...          NaN   \n",
       "31903562           NaN       NaN              NaN  ...          NaN   \n",
       "31903563           NaN       NaN              NaN  ...          NaN   \n",
       "31903564           NaN       NaN              NaN  ...          NaN   \n",
       "\n",
       "         garment_group_no  garment_group_name detail_desc   FN Active  \\\n",
       "0                     NaN                 NaN         NaN  NaN    NaN   \n",
       "1                     NaN                 NaN         NaN  NaN    NaN   \n",
       "2                     NaN                 NaN         NaN  NaN    NaN   \n",
       "3                     NaN                 NaN         NaN  NaN    NaN   \n",
       "4                     NaN                 NaN         NaN  NaN    NaN   \n",
       "...                   ...                 ...         ...  ...    ...   \n",
       "31903560              NaN                 NaN         NaN  NaN    NaN   \n",
       "31903561              NaN                 NaN         NaN  1.0    1.0   \n",
       "31903562              NaN                 NaN         NaN  NaN    NaN   \n",
       "31903563              NaN                 NaN         NaN  1.0    1.0   \n",
       "31903564              NaN                 NaN         NaN  1.0    1.0   \n",
       "\n",
       "          club_member_status fashion_news_frequency   age  \\\n",
       "0                     ACTIVE                   NONE  24.0   \n",
       "1                     ACTIVE                   NONE  24.0   \n",
       "2                     ACTIVE                   NONE  24.0   \n",
       "3                     ACTIVE                   NONE  24.0   \n",
       "4                     ACTIVE                   NONE  24.0   \n",
       "...                      ...                    ...   ...   \n",
       "31903560              ACTIVE                   NONE  55.0   \n",
       "31903561              ACTIVE              Regularly  21.0   \n",
       "31903562          PRE-CREATE                   NONE  40.0   \n",
       "31903563              ACTIVE              Regularly  21.0   \n",
       "31903564              ACTIVE              Regularly  18.0   \n",
       "\n",
       "                                                postal_code  \n",
       "0         64f17e6a330a85798e4998f62d0930d14db8db1c054af6...  \n",
       "1         64f17e6a330a85798e4998f62d0930d14db8db1c054af6...  \n",
       "2         64f17e6a330a85798e4998f62d0930d14db8db1c054af6...  \n",
       "3         64f17e6a330a85798e4998f62d0930d14db8db1c054af6...  \n",
       "4         64f17e6a330a85798e4998f62d0930d14db8db1c054af6...  \n",
       "...                                                     ...  \n",
       "31903560  5b8b142d4bb9e28c0d2fc8f87ca22337469f21e7eeb428...  \n",
       "31903561  666ea034757d9ac0873fa8f213d7ea359312936e004e99...  \n",
       "31903562  efb648f93b15fd00f8a0067791bd47655f6577902b21fc...  \n",
       "31903563  c5641c33d0f01f66e69356fdc8ccb3012b14b1f51a90d0...  \n",
       "31903564  fac16a7bf6ad863c32009166cf834aab744af6caaee552...  \n",
       "\n",
       "[31903565 rows x 37 columns]>"
      ]
     },
     "execution_count": 44,
     "metadata": {},
     "output_type": "execute_result"
    }
   ],
   "source": [
    "main_dataset.head"
   ]
  },
  {
   "cell_type": "code",
   "execution_count": null,
   "metadata": {},
   "outputs": [],
   "source": [
    "#main_dataset.to_csv(\"main_dataset.csv\")"
   ]
  },
  {
   "cell_type": "code",
   "execution_count": null,
   "metadata": {},
   "outputs": [],
   "source": [
    "main_dataset_copy=main_dataset.copy()"
   ]
  },
  {
   "cell_type": "code",
   "execution_count": null,
   "metadata": {},
   "outputs": [
    {
     "data": {
      "text/html": [
       "<div>\n",
       "<style scoped>\n",
       "    .dataframe tbody tr th:only-of-type {\n",
       "        vertical-align: middle;\n",
       "    }\n",
       "\n",
       "    .dataframe tbody tr th {\n",
       "        vertical-align: top;\n",
       "    }\n",
       "\n",
       "    .dataframe thead th {\n",
       "        text-align: right;\n",
       "    }\n",
       "</style>\n",
       "<table border=\"1\" class=\"dataframe\">\n",
       "  <thead>\n",
       "    <tr style=\"text-align: right;\">\n",
       "      <th></th>\n",
       "      <th>article_id</th>\n",
       "      <th>t_dat</th>\n",
       "      <th>customer_id</th>\n",
       "      <th>article_id_caller</th>\n",
       "      <th>price</th>\n",
       "      <th>sales_channel_id</th>\n",
       "      <th>article_id_other</th>\n",
       "      <th>product_type_no</th>\n",
       "      <th>product_type_name</th>\n",
       "      <th>product_group_name</th>\n",
       "      <th>...</th>\n",
       "      <th>index_group_name</th>\n",
       "      <th>section_no</th>\n",
       "      <th>section_name</th>\n",
       "      <th>garment_group_no</th>\n",
       "      <th>garment_group_name</th>\n",
       "      <th>FN</th>\n",
       "      <th>Active</th>\n",
       "      <th>club_member_status</th>\n",
       "      <th>fashion_news_frequency</th>\n",
       "      <th>age</th>\n",
       "    </tr>\n",
       "  </thead>\n",
       "  <tbody>\n",
       "    <tr>\n",
       "      <th>0</th>\n",
       "      <td>663713001.0</td>\n",
       "      <td>2018-09-20</td>\n",
       "      <td>000058a12d5b43e67d225668fa1f8d618c13dc232df0ca...</td>\n",
       "      <td>663713001.0</td>\n",
       "      <td>0.050831</td>\n",
       "      <td>2.0</td>\n",
       "      <td>NaN</td>\n",
       "      <td>NaN</td>\n",
       "      <td>NaN</td>\n",
       "      <td>NaN</td>\n",
       "      <td>...</td>\n",
       "      <td>NaN</td>\n",
       "      <td>NaN</td>\n",
       "      <td>NaN</td>\n",
       "      <td>NaN</td>\n",
       "      <td>NaN</td>\n",
       "      <td>NaN</td>\n",
       "      <td>NaN</td>\n",
       "      <td>ACTIVE</td>\n",
       "      <td>NONE</td>\n",
       "      <td>24.0</td>\n",
       "    </tr>\n",
       "    <tr>\n",
       "      <th>1</th>\n",
       "      <td>663713001.0</td>\n",
       "      <td>2018-09-24</td>\n",
       "      <td>000058a12d5b43e67d225668fa1f8d618c13dc232df0ca...</td>\n",
       "      <td>663713001.0</td>\n",
       "      <td>0.050831</td>\n",
       "      <td>2.0</td>\n",
       "      <td>NaN</td>\n",
       "      <td>NaN</td>\n",
       "      <td>NaN</td>\n",
       "      <td>NaN</td>\n",
       "      <td>...</td>\n",
       "      <td>NaN</td>\n",
       "      <td>NaN</td>\n",
       "      <td>NaN</td>\n",
       "      <td>NaN</td>\n",
       "      <td>NaN</td>\n",
       "      <td>NaN</td>\n",
       "      <td>NaN</td>\n",
       "      <td>ACTIVE</td>\n",
       "      <td>NONE</td>\n",
       "      <td>24.0</td>\n",
       "    </tr>\n",
       "    <tr>\n",
       "      <th>2</th>\n",
       "      <td>541518023.0</td>\n",
       "      <td>2018-09-20</td>\n",
       "      <td>000058a12d5b43e67d225668fa1f8d618c13dc232df0ca...</td>\n",
       "      <td>541518023.0</td>\n",
       "      <td>0.030492</td>\n",
       "      <td>2.0</td>\n",
       "      <td>NaN</td>\n",
       "      <td>NaN</td>\n",
       "      <td>NaN</td>\n",
       "      <td>NaN</td>\n",
       "      <td>...</td>\n",
       "      <td>NaN</td>\n",
       "      <td>NaN</td>\n",
       "      <td>NaN</td>\n",
       "      <td>NaN</td>\n",
       "      <td>NaN</td>\n",
       "      <td>NaN</td>\n",
       "      <td>NaN</td>\n",
       "      <td>ACTIVE</td>\n",
       "      <td>NONE</td>\n",
       "      <td>24.0</td>\n",
       "    </tr>\n",
       "    <tr>\n",
       "      <th>3</th>\n",
       "      <td>578020002.0</td>\n",
       "      <td>2019-03-01</td>\n",
       "      <td>000058a12d5b43e67d225668fa1f8d618c13dc232df0ca...</td>\n",
       "      <td>578020002.0</td>\n",
       "      <td>0.013542</td>\n",
       "      <td>2.0</td>\n",
       "      <td>NaN</td>\n",
       "      <td>NaN</td>\n",
       "      <td>NaN</td>\n",
       "      <td>NaN</td>\n",
       "      <td>...</td>\n",
       "      <td>NaN</td>\n",
       "      <td>NaN</td>\n",
       "      <td>NaN</td>\n",
       "      <td>NaN</td>\n",
       "      <td>NaN</td>\n",
       "      <td>NaN</td>\n",
       "      <td>NaN</td>\n",
       "      <td>ACTIVE</td>\n",
       "      <td>NONE</td>\n",
       "      <td>24.0</td>\n",
       "    </tr>\n",
       "    <tr>\n",
       "      <th>4</th>\n",
       "      <td>351484002.0</td>\n",
       "      <td>2020-02-03</td>\n",
       "      <td>000058a12d5b43e67d225668fa1f8d618c13dc232df0ca...</td>\n",
       "      <td>351484002.0</td>\n",
       "      <td>0.022017</td>\n",
       "      <td>2.0</td>\n",
       "      <td>NaN</td>\n",
       "      <td>NaN</td>\n",
       "      <td>NaN</td>\n",
       "      <td>NaN</td>\n",
       "      <td>...</td>\n",
       "      <td>NaN</td>\n",
       "      <td>NaN</td>\n",
       "      <td>NaN</td>\n",
       "      <td>NaN</td>\n",
       "      <td>NaN</td>\n",
       "      <td>NaN</td>\n",
       "      <td>NaN</td>\n",
       "      <td>ACTIVE</td>\n",
       "      <td>NONE</td>\n",
       "      <td>24.0</td>\n",
       "    </tr>\n",
       "    <tr>\n",
       "      <th>...</th>\n",
       "      <td>...</td>\n",
       "      <td>...</td>\n",
       "      <td>...</td>\n",
       "      <td>...</td>\n",
       "      <td>...</td>\n",
       "      <td>...</td>\n",
       "      <td>...</td>\n",
       "      <td>...</td>\n",
       "      <td>...</td>\n",
       "      <td>...</td>\n",
       "      <td>...</td>\n",
       "      <td>...</td>\n",
       "      <td>...</td>\n",
       "      <td>...</td>\n",
       "      <td>...</td>\n",
       "      <td>...</td>\n",
       "      <td>...</td>\n",
       "      <td>...</td>\n",
       "      <td>...</td>\n",
       "      <td>...</td>\n",
       "      <td>...</td>\n",
       "    </tr>\n",
       "    <tr>\n",
       "      <th>31903560</th>\n",
       "      <td>NaN</td>\n",
       "      <td>NaN</td>\n",
       "      <td>ffe5801cb2a5b51d4d068322d7f8082e995f427a6f22a6...</td>\n",
       "      <td>NaN</td>\n",
       "      <td>NaN</td>\n",
       "      <td>NaN</td>\n",
       "      <td>NaN</td>\n",
       "      <td>NaN</td>\n",
       "      <td>NaN</td>\n",
       "      <td>NaN</td>\n",
       "      <td>...</td>\n",
       "      <td>NaN</td>\n",
       "      <td>NaN</td>\n",
       "      <td>NaN</td>\n",
       "      <td>NaN</td>\n",
       "      <td>NaN</td>\n",
       "      <td>NaN</td>\n",
       "      <td>NaN</td>\n",
       "      <td>ACTIVE</td>\n",
       "      <td>NONE</td>\n",
       "      <td>55.0</td>\n",
       "    </tr>\n",
       "    <tr>\n",
       "      <th>31903561</th>\n",
       "      <td>NaN</td>\n",
       "      <td>NaN</td>\n",
       "      <td>ffeb3ca867aba57a312fe9d28d67dd46ef2240fe92a94c...</td>\n",
       "      <td>NaN</td>\n",
       "      <td>NaN</td>\n",
       "      <td>NaN</td>\n",
       "      <td>NaN</td>\n",
       "      <td>NaN</td>\n",
       "      <td>NaN</td>\n",
       "      <td>NaN</td>\n",
       "      <td>...</td>\n",
       "      <td>NaN</td>\n",
       "      <td>NaN</td>\n",
       "      <td>NaN</td>\n",
       "      <td>NaN</td>\n",
       "      <td>NaN</td>\n",
       "      <td>1.0</td>\n",
       "      <td>1.0</td>\n",
       "      <td>ACTIVE</td>\n",
       "      <td>Regularly</td>\n",
       "      <td>21.0</td>\n",
       "    </tr>\n",
       "    <tr>\n",
       "      <th>31903562</th>\n",
       "      <td>NaN</td>\n",
       "      <td>NaN</td>\n",
       "      <td>fff456fa60aac9174456c2f36ede5e0f25429a16c88a34...</td>\n",
       "      <td>NaN</td>\n",
       "      <td>NaN</td>\n",
       "      <td>NaN</td>\n",
       "      <td>NaN</td>\n",
       "      <td>NaN</td>\n",
       "      <td>NaN</td>\n",
       "      <td>NaN</td>\n",
       "      <td>...</td>\n",
       "      <td>NaN</td>\n",
       "      <td>NaN</td>\n",
       "      <td>NaN</td>\n",
       "      <td>NaN</td>\n",
       "      <td>NaN</td>\n",
       "      <td>NaN</td>\n",
       "      <td>NaN</td>\n",
       "      <td>PRE-CREATE</td>\n",
       "      <td>NONE</td>\n",
       "      <td>40.0</td>\n",
       "    </tr>\n",
       "    <tr>\n",
       "      <th>31903563</th>\n",
       "      <td>NaN</td>\n",
       "      <td>NaN</td>\n",
       "      <td>fffa8d3cea26d4f5186472b923629b35fa28051f258030...</td>\n",
       "      <td>NaN</td>\n",
       "      <td>NaN</td>\n",
       "      <td>NaN</td>\n",
       "      <td>NaN</td>\n",
       "      <td>NaN</td>\n",
       "      <td>NaN</td>\n",
       "      <td>NaN</td>\n",
       "      <td>...</td>\n",
       "      <td>NaN</td>\n",
       "      <td>NaN</td>\n",
       "      <td>NaN</td>\n",
       "      <td>NaN</td>\n",
       "      <td>NaN</td>\n",
       "      <td>1.0</td>\n",
       "      <td>1.0</td>\n",
       "      <td>ACTIVE</td>\n",
       "      <td>Regularly</td>\n",
       "      <td>21.0</td>\n",
       "    </tr>\n",
       "    <tr>\n",
       "      <th>31903564</th>\n",
       "      <td>NaN</td>\n",
       "      <td>NaN</td>\n",
       "      <td>ffff01710b4f0d558ff62d7dc00f0641065b37e840bb43...</td>\n",
       "      <td>NaN</td>\n",
       "      <td>NaN</td>\n",
       "      <td>NaN</td>\n",
       "      <td>NaN</td>\n",
       "      <td>NaN</td>\n",
       "      <td>NaN</td>\n",
       "      <td>NaN</td>\n",
       "      <td>...</td>\n",
       "      <td>NaN</td>\n",
       "      <td>NaN</td>\n",
       "      <td>NaN</td>\n",
       "      <td>NaN</td>\n",
       "      <td>NaN</td>\n",
       "      <td>1.0</td>\n",
       "      <td>1.0</td>\n",
       "      <td>ACTIVE</td>\n",
       "      <td>Regularly</td>\n",
       "      <td>18.0</td>\n",
       "    </tr>\n",
       "  </tbody>\n",
       "</table>\n",
       "<p>31903565 rows × 31 columns</p>\n",
       "</div>"
      ],
      "text/plain": [
       "           article_id       t_dat  \\\n",
       "0         663713001.0  2018-09-20   \n",
       "1         663713001.0  2018-09-24   \n",
       "2         541518023.0  2018-09-20   \n",
       "3         578020002.0  2019-03-01   \n",
       "4         351484002.0  2020-02-03   \n",
       "...               ...         ...   \n",
       "31903560          NaN         NaN   \n",
       "31903561          NaN         NaN   \n",
       "31903562          NaN         NaN   \n",
       "31903563          NaN         NaN   \n",
       "31903564          NaN         NaN   \n",
       "\n",
       "                                                customer_id  \\\n",
       "0         000058a12d5b43e67d225668fa1f8d618c13dc232df0ca...   \n",
       "1         000058a12d5b43e67d225668fa1f8d618c13dc232df0ca...   \n",
       "2         000058a12d5b43e67d225668fa1f8d618c13dc232df0ca...   \n",
       "3         000058a12d5b43e67d225668fa1f8d618c13dc232df0ca...   \n",
       "4         000058a12d5b43e67d225668fa1f8d618c13dc232df0ca...   \n",
       "...                                                     ...   \n",
       "31903560  ffe5801cb2a5b51d4d068322d7f8082e995f427a6f22a6...   \n",
       "31903561  ffeb3ca867aba57a312fe9d28d67dd46ef2240fe92a94c...   \n",
       "31903562  fff456fa60aac9174456c2f36ede5e0f25429a16c88a34...   \n",
       "31903563  fffa8d3cea26d4f5186472b923629b35fa28051f258030...   \n",
       "31903564  ffff01710b4f0d558ff62d7dc00f0641065b37e840bb43...   \n",
       "\n",
       "          article_id_caller     price  sales_channel_id  article_id_other  \\\n",
       "0               663713001.0  0.050831               2.0               NaN   \n",
       "1               663713001.0  0.050831               2.0               NaN   \n",
       "2               541518023.0  0.030492               2.0               NaN   \n",
       "3               578020002.0  0.013542               2.0               NaN   \n",
       "4               351484002.0  0.022017               2.0               NaN   \n",
       "...                     ...       ...               ...               ...   \n",
       "31903560                NaN       NaN               NaN               NaN   \n",
       "31903561                NaN       NaN               NaN               NaN   \n",
       "31903562                NaN       NaN               NaN               NaN   \n",
       "31903563                NaN       NaN               NaN               NaN   \n",
       "31903564                NaN       NaN               NaN               NaN   \n",
       "\n",
       "          product_type_no product_type_name product_group_name  ...  \\\n",
       "0                     NaN               NaN                NaN  ...   \n",
       "1                     NaN               NaN                NaN  ...   \n",
       "2                     NaN               NaN                NaN  ...   \n",
       "3                     NaN               NaN                NaN  ...   \n",
       "4                     NaN               NaN                NaN  ...   \n",
       "...                   ...               ...                ...  ...   \n",
       "31903560              NaN               NaN                NaN  ...   \n",
       "31903561              NaN               NaN                NaN  ...   \n",
       "31903562              NaN               NaN                NaN  ...   \n",
       "31903563              NaN               NaN                NaN  ...   \n",
       "31903564              NaN               NaN                NaN  ...   \n",
       "\n",
       "          index_group_name  section_no  section_name garment_group_no  \\\n",
       "0                      NaN         NaN           NaN              NaN   \n",
       "1                      NaN         NaN           NaN              NaN   \n",
       "2                      NaN         NaN           NaN              NaN   \n",
       "3                      NaN         NaN           NaN              NaN   \n",
       "4                      NaN         NaN           NaN              NaN   \n",
       "...                    ...         ...           ...              ...   \n",
       "31903560               NaN         NaN           NaN              NaN   \n",
       "31903561               NaN         NaN           NaN              NaN   \n",
       "31903562               NaN         NaN           NaN              NaN   \n",
       "31903563               NaN         NaN           NaN              NaN   \n",
       "31903564               NaN         NaN           NaN              NaN   \n",
       "\n",
       "          garment_group_name   FN  Active club_member_status  \\\n",
       "0                        NaN  NaN     NaN             ACTIVE   \n",
       "1                        NaN  NaN     NaN             ACTIVE   \n",
       "2                        NaN  NaN     NaN             ACTIVE   \n",
       "3                        NaN  NaN     NaN             ACTIVE   \n",
       "4                        NaN  NaN     NaN             ACTIVE   \n",
       "...                      ...  ...     ...                ...   \n",
       "31903560                 NaN  NaN     NaN             ACTIVE   \n",
       "31903561                 NaN  1.0     1.0             ACTIVE   \n",
       "31903562                 NaN  NaN     NaN         PRE-CREATE   \n",
       "31903563                 NaN  1.0     1.0             ACTIVE   \n",
       "31903564                 NaN  1.0     1.0             ACTIVE   \n",
       "\n",
       "         fashion_news_frequency   age  \n",
       "0                          NONE  24.0  \n",
       "1                          NONE  24.0  \n",
       "2                          NONE  24.0  \n",
       "3                          NONE  24.0  \n",
       "4                          NONE  24.0  \n",
       "...                         ...   ...  \n",
       "31903560                   NONE  55.0  \n",
       "31903561              Regularly  21.0  \n",
       "31903562                   NONE  40.0  \n",
       "31903563              Regularly  21.0  \n",
       "31903564              Regularly  18.0  \n",
       "\n",
       "[31903565 rows x 31 columns]"
      ]
     },
     "execution_count": 47,
     "metadata": {},
     "output_type": "execute_result"
    }
   ],
   "source": [
    "main_dataset_copy.drop(columns=[\"detail_desc\",\"product_code\",\"postal_code\",\"prod_name\",\"graphical_appearance_name\",\"colour_group_name\"])"
   ]
  },
  {
   "cell_type": "code",
   "execution_count": null,
   "metadata": {},
   "outputs": [
    {
     "data": {
      "text/plain": [
       "<AxesSubplot:>"
      ]
     },
     "execution_count": 48,
     "metadata": {},
     "output_type": "execute_result"
    },
    {
     "data": {
      "image/png": "[encoded data removed]",
      "text/plain": [
       "<Figure size 640x480 with 2 Axes>"
      ]
     },
     "metadata": {},
     "output_type": "display_data"
    }
   ],
   "source": [
    "corrM = main_dataset_copy.corr()\n",
    "sns.heatmap(corrM)"
   ]
  },
  {
   "cell_type": "code",
   "execution_count": null,
   "metadata": {},
   "outputs": [],
   "source": [
    "#def customer_transaction_dataset(customer_id,customer_specific_folders_path):\n",
    "#    customer_dataset = transaction_dataset.loc[transaction_dataset['customer_id'] == customer_id]\n",
    "#    customer_specific_folder_path = os.path.join(customer_specific_folders_path,customer_id)\n",
    "#    os.mkdir(customer_specific_folder_path)\n",
    "#    customer_dataset.to_csv(os.path.join(customer_specific_folder_path,\"customer_dataset.csv\"))"
   ]
  },
  {
   "cell_type": "code",
   "execution_count": null,
   "metadata": {},
   "outputs": [],
   "source": [
    "#customer_specific_folders_path = os.path.join(os.getcwd(),\"h-and-m-personalized-fashion-recommendations\",\"customer_specific_folders\")\n",
    "#os.mkdir(customer_specific_folders_path)\n",
    "#for customer_id in transaction_dataset[\"customer_id\"].unique():\n",
    "#    customer_transaction_dataset(customer_id,customer_specific_folders_path)"
   ]
  },
  {
   "cell_type": "code",
   "execution_count": null,
   "metadata": {},
   "outputs": [],
   "source": []
  }
 ],
 "metadata": {
  "kernelspec": {
   "display_name": "Python 3.8.10 64-bit",
   "language": "python",
   "name": "python3"
  },
  "language_info": {
   "codemirror_mode": {
    "name": "ipython",
    "version": 3
   },
   "file_extension": ".py",
   "mimetype": "text/x-python",
   "name": "python",
   "nbconvert_exporter": "python",
   "pygments_lexer": "ipython3",
   "version": "3.8.10"
  },
  "orig_nbformat": 4,
  "vscode": {
   "interpreter": {
    "hash": "d8f36e8ab264295db1c5b35527a390733d0646354b3594a7f01b43d80db3249f"
   }
  }
 },
 "nbformat": 4,
 "nbformat_minor": 2
}
